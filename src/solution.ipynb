{
 "cells": [
  {
   "cell_type": "markdown",
   "id": "e7f25ed4",
   "metadata": {},
   "source": [
    "## Problem: Adversarial Noise (from the author's description)\n",
    "\n",
    "The task involves developing a program that manipulates images by adding adversarial noise. This noise is designed to trick an image classification model into misclassifying the altered image as a specified target class, regardless of the original content.\n",
    "\n",
    "- You may select any pre-trained image classification model for this task. A model from the torchvision library is recommended, but not mandatory.\n",
    "- The core challenge is to effectively introduce noise into the image in such a way that the model misclassifies it as the desired target class, without making the noise perceptible to a casual human viewer.\n"
   ]
  },
  {
   "cell_type": "code",
   "execution_count": null,
   "id": "5d340525",
   "metadata": {},
   "outputs": [],
   "source": []
  }
 ],
 "metadata": {
  "kernelspec": {
   "display_name": "base",
   "language": "python",
   "name": "python3"
  },
  "language_info": {
   "codemirror_mode": {
    "name": "ipython",
    "version": 3
   },
   "file_extension": ".py",
   "mimetype": "text/x-python",
   "name": "python",
   "nbconvert_exporter": "python",
   "pygments_lexer": "ipython3",
   "version": "3.13.5"
  }
 },
 "nbformat": 4,
 "nbformat_minor": 5
}
