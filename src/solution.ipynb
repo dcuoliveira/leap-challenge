{
 "cells": [
  {
   "cell_type": "markdown",
   "id": "e7f25ed4",
   "metadata": {},
   "source": [
    "> ### Problem: Adversarial Noise (from the author's description)\n",
    ">The task involves developing a program that manipulates images by adding adversarial noise. This noise is designed to trick an image classification model into misclassifying the altered image as a specified target class, regardless of the original content.\n",
    "> - You may select any pre-trained image classification model for this task. A model from the torchvision library is recommended, but not mandatory.\n",
    "> - The core challenge is to effectively introduce noise into the image in such a way that the model misclassifies it as the desired target class, without making the noise perceptible to a casual human viewer.\n",
    "\n",
    "\n",
    "\n"
   ]
  },
  {
   "cell_type": "markdown",
   "id": "7dabbc37",
   "metadata": {},
   "source": [
    "### 0.1 Getting Started\n",
    "\n",
    "The goal of the challenge is to develop a program that adds adversarial noise to images with the aim of tricking an image classification model without being detected by a human. \n",
    "\n",
    "More formally, consider that $\\mathcal{D} = \\{ (x_i, y_i) \\}_{i=1}^N$ is a dataset of images and their corresponding labels. Let also $f_{\\theta}: \\mathcal{X} \\to \\mathcal{Y}$ be a pre-trained image classification model with estimated parameters $\\theta$, where $\\mathcal{X}$ is the space of images and $\\mathcal{Y}$ is the space of labels that achieves $a%$ accuracy a dataset. The goal is to find an adversarial noise $\\epsilon$ such that the model misclassifies the image $x_i$:\n",
    "\n",
    "$$\n",
    "\\epsilon^* = \\arg\\min_{\\epsilon} \\frac{1}{N} \\sum_{i=1}^N \\mathbb{I}\\Big(f_{\\theta}(x_i + \\epsilon) = y_i\\Big)\n",
    "$$\n",
    "\n",
    "Thus, we have the following model components:\n",
    "\n",
    "1. **Dataset**: A collection of images and their corresponding labels.\n",
    "2. **Model**: A pre-trained image classification model that can be used to classify images.\n",
    "3. **Adversarial Noise**: A perturbation that can be added to the images\n",
    "\n",
    "This will guide the development of the solution thorough this notebook.\n",
    "\n",
    "### 0.2 Dataset\n",
    "\n",
    "The dataset used in this challenge is the [CIFAR-10](https://www.cs.toronto.edu/~kriz/cifar.html) dataset, which consists of 60,000 32x32 color images in 10 classes, with 6,000 images per class. The dataset is divided into 50,000 training images and 10,000 test images."
   ]
  },
  {
   "cell_type": "code",
   "execution_count": null,
   "id": "400d54f0",
   "metadata": {},
   "outputs": [],
   "source": [
    "import os\n",
    "import pickle\n",
    "import numpy as np\n",
    "import matplotlib.pyplot as plt\n",
    "\n",
    "# Path to your CIFAR-10 data\n",
    "data_path = os.path.join(os.getcwd(), \"data\", \"inputs\", \"cifar-10-batches-py\")\n",
    "\n",
    "# Function to load a single batch\n",
    "def load_cifar_batch(filename):\n",
    "    with open(filename, 'rb') as f:\n",
    "        batch = pickle.load(f, encoding='bytes')\n",
    "        data = batch[b'data']\n",
    "        labels = batch[b'labels']\n",
    "        # Reshape to (num_images, 3, 32, 32)\n",
    "        data = data.reshape(-1, 3, 32, 32)\n",
    "        return data, labels\n",
    "\n",
    "# Load the first batch\n",
    "X_batch, y_batch = load_cifar_batch(f\"{data_path}/data_batch_1\")\n",
    "\n",
    "# Load label names\n",
    "with open(f\"{data_path}/batches.meta\", 'rb') as f:\n",
    "    label_names = pickle.load(f, encoding='bytes')[b'label_names']\n",
    "    label_names = [name.decode('utf-8') for name in label_names]\n",
    "\n",
    "# Pick a random image index\n",
    "idx = np.random.randint(0, len(X_batch))\n",
    "img = X_batch[idx]\n",
    "label = label_names[y_batch[idx]]\n",
    "\n",
    "# Transpose image to (32, 32, 3) for plotting\n",
    "img = np.transpose(img, (1, 2, 0))\n",
    "\n",
    "# Plot the image\n",
    "plt.imshow(img)\n",
    "plt.title(f\"Label: {label}\")\n",
    "plt.axis('off')\n",
    "plt.show()\n"
   ]
  },
  {
   "cell_type": "code",
   "execution_count": null,
   "id": "4d3670a8",
   "metadata": {},
   "outputs": [],
   "source": []
  },
  {
   "cell_type": "code",
   "execution_count": null,
   "id": "e95cb6d6",
   "metadata": {},
   "outputs": [],
   "source": []
  },
  {
   "cell_type": "code",
   "execution_count": null,
   "id": "5d340525",
   "metadata": {},
   "outputs": [],
   "source": []
  }
 ],
 "metadata": {
  "kernelspec": {
   "display_name": "base",
   "language": "python",
   "name": "python3"
  },
  "language_info": {
   "codemirror_mode": {
    "name": "ipython",
    "version": 3
   },
   "file_extension": ".py",
   "mimetype": "text/x-python",
   "name": "python",
   "nbconvert_exporter": "python",
   "pygments_lexer": "ipython3",
   "version": "3.13.5"
  }
 },
 "nbformat": 4,
 "nbformat_minor": 5
}
